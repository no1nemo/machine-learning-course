{
  "nbformat": 4,
  "nbformat_minor": 0,
  "metadata": {
    "colab": {
      "name": "Generalisation_Error.ipynb",
      "provenance": [],
      "collapsed_sections": [],
      "toc_visible": true
    },
    "kernelspec": {
      "name": "python3",
      "display_name": "Python 3"
    },
    "language_info": {
      "name": "python"
    },
    "widgets": {
      "application/vnd.jupyter.widget-state+json": {
        "b9d0c86cb70f4f96bc5ea0c75ba343c3": {
          "model_module": "@jupyter-widgets/controls",
          "model_name": "VBoxModel",
          "model_module_version": "1.5.0",
          "state": {
            "_view_name": "VBoxView",
            "_dom_classes": [
              "widget-interact"
            ],
            "_model_name": "VBoxModel",
            "_view_module": "@jupyter-widgets/controls",
            "_model_module_version": "1.5.0",
            "_view_count": null,
            "_view_module_version": "1.5.0",
            "box_style": "",
            "layout": "IPY_MODEL_01ec080896c641448817386ba3fff73d",
            "_model_module": "@jupyter-widgets/controls",
            "children": [
              "IPY_MODEL_8a803df1cdbd45899bf9039cd2752d9a",
              "IPY_MODEL_fb58e653866a4e0eb751d9ac8948aa2d",
              "IPY_MODEL_d9eb0b652e814661996f2dfdec77d0ea",
              "IPY_MODEL_baa3be63753342d08c923f568a7d9838",
              "IPY_MODEL_ad869cbd9fa44d9690a933a66c26b4f4",
              "IPY_MODEL_284e5124dca6489b9f4d545e9707d283"
            ]
          }
        },
        "01ec080896c641448817386ba3fff73d": {
          "model_module": "@jupyter-widgets/base",
          "model_name": "LayoutModel",
          "model_module_version": "1.2.0",
          "state": {
            "_view_name": "LayoutView",
            "grid_template_rows": null,
            "right": null,
            "justify_content": null,
            "_view_module": "@jupyter-widgets/base",
            "overflow": null,
            "_model_module_version": "1.2.0",
            "_view_count": null,
            "flex_flow": null,
            "width": null,
            "min_width": null,
            "border": null,
            "align_items": null,
            "bottom": null,
            "_model_module": "@jupyter-widgets/base",
            "top": null,
            "grid_column": null,
            "overflow_y": null,
            "overflow_x": null,
            "grid_auto_flow": null,
            "grid_area": null,
            "grid_template_columns": null,
            "flex": null,
            "_model_name": "LayoutModel",
            "justify_items": null,
            "grid_row": null,
            "max_height": null,
            "align_content": null,
            "visibility": null,
            "align_self": null,
            "height": null,
            "min_height": null,
            "padding": null,
            "grid_auto_rows": null,
            "grid_gap": null,
            "max_width": null,
            "order": null,
            "_view_module_version": "1.2.0",
            "grid_template_areas": null,
            "object_position": null,
            "object_fit": null,
            "grid_auto_columns": null,
            "margin": null,
            "display": null,
            "left": null
          }
        },
        "8a803df1cdbd45899bf9039cd2752d9a": {
          "model_module": "@jupyter-widgets/controls",
          "model_name": "ComboboxModel",
          "model_module_version": "1.5.0",
          "state": {
            "_view_name": "ComboboxView",
            "style": "IPY_MODEL_15843578399f487a875f7c05d5044bda",
            "_dom_classes": [],
            "description": "Parameter",
            "_model_name": "ComboboxModel",
            "placeholder": "​",
            "_view_module": "@jupyter-widgets/controls",
            "_model_module_version": "1.5.0",
            "value": "",
            "_view_count": null,
            "disabled": false,
            "_view_module_version": "1.5.0",
            "continuous_update": true,
            "description_tooltip": null,
            "ensure_option": false,
            "_model_module": "@jupyter-widgets/controls",
            "options": [
              "Train Error",
              "Epsilon",
              "Probability",
              "Number of Data Points"
            ],
            "layout": "IPY_MODEL_2c02611726374d1b8b7abc202f58900f"
          }
        },
        "fb58e653866a4e0eb751d9ac8948aa2d": {
          "model_module": "@jupyter-widgets/controls",
          "model_name": "FloatSliderModel",
          "model_module_version": "1.5.0",
          "state": {
            "_view_name": "FloatSliderView",
            "style": "IPY_MODEL_ce4f265460004a3ab91f3a7a1018dd85",
            "_dom_classes": [],
            "description": "training_error",
            "step": 0.05,
            "_model_name": "FloatSliderModel",
            "orientation": "horizontal",
            "max": 1,
            "_view_module": "@jupyter-widgets/controls",
            "_model_module_version": "1.5.0",
            "value": 0.5,
            "_view_count": null,
            "disabled": false,
            "_view_module_version": "1.5.0",
            "min": 0,
            "continuous_update": true,
            "readout_format": ".2f",
            "description_tooltip": null,
            "readout": true,
            "_model_module": "@jupyter-widgets/controls",
            "layout": "IPY_MODEL_8cb190e7cf7e4f6b8ea8479cdc13e2f2"
          }
        },
        "d9eb0b652e814661996f2dfdec77d0ea": {
          "model_module": "@jupyter-widgets/controls",
          "model_name": "FloatSliderModel",
          "model_module_version": "1.5.0",
          "state": {
            "_view_name": "FloatSliderView",
            "style": "IPY_MODEL_92063e7753aa412d80a6cf07cf40637c",
            "_dom_classes": [],
            "description": "epsilon",
            "step": 0.05,
            "_model_name": "FloatSliderModel",
            "orientation": "horizontal",
            "max": 1,
            "_view_module": "@jupyter-widgets/controls",
            "_model_module_version": "1.5.0",
            "value": 0.5,
            "_view_count": null,
            "disabled": false,
            "_view_module_version": "1.5.0",
            "min": 0,
            "continuous_update": true,
            "readout_format": ".2f",
            "description_tooltip": null,
            "readout": true,
            "_model_module": "@jupyter-widgets/controls",
            "layout": "IPY_MODEL_82bbe257b56242d8987f56fcd88d1e19"
          }
        },
        "baa3be63753342d08c923f568a7d9838": {
          "model_module": "@jupyter-widgets/controls",
          "model_name": "FloatSliderModel",
          "model_module_version": "1.5.0",
          "state": {
            "_view_name": "FloatSliderView",
            "style": "IPY_MODEL_d63436394a7840adbeb1b5c7dd5afd86",
            "_dom_classes": [],
            "description": "P",
            "step": 0.05,
            "_model_name": "FloatSliderModel",
            "orientation": "horizontal",
            "max": 1,
            "_view_module": "@jupyter-widgets/controls",
            "_model_module_version": "1.5.0",
            "value": 0.5,
            "_view_count": null,
            "disabled": false,
            "_view_module_version": "1.5.0",
            "min": 0,
            "continuous_update": true,
            "readout_format": ".2f",
            "description_tooltip": null,
            "readout": true,
            "_model_module": "@jupyter-widgets/controls",
            "layout": "IPY_MODEL_114f14af56d64d259ad976a2916ef7c4"
          }
        },
        "ad869cbd9fa44d9690a933a66c26b4f4": {
          "model_module": "@jupyter-widgets/controls",
          "model_name": "IntSliderModel",
          "model_module_version": "1.5.0",
          "state": {
            "_view_name": "IntSliderView",
            "style": "IPY_MODEL_75da536622074f7e933423d88271a53f",
            "_dom_classes": [],
            "description": "N",
            "step": 10,
            "_model_name": "IntSliderModel",
            "orientation": "horizontal",
            "max": 10000,
            "_view_module": "@jupyter-widgets/controls",
            "_model_module_version": "1.5.0",
            "value": 5000,
            "_view_count": null,
            "disabled": false,
            "_view_module_version": "1.5.0",
            "min": 0,
            "continuous_update": true,
            "readout_format": "d",
            "description_tooltip": null,
            "readout": true,
            "_model_module": "@jupyter-widgets/controls",
            "layout": "IPY_MODEL_11d36ed4a6fa4dbd96f9fd6e85d79cbd"
          }
        },
        "284e5124dca6489b9f4d545e9707d283": {
          "model_module": "@jupyter-widgets/output",
          "model_name": "OutputModel",
          "model_module_version": "1.0.0",
          "state": {
            "_view_name": "OutputView",
            "msg_id": "",
            "_dom_classes": [],
            "_model_name": "OutputModel",
            "outputs": [
              {
                "output_type": "stream",
                "text": [
                  "0.5 0.5 0.5 5000\n"
                ],
                "name": "stdout"
              }
            ],
            "_view_module": "@jupyter-widgets/output",
            "_model_module_version": "1.0.0",
            "_view_count": null,
            "_view_module_version": "1.0.0",
            "layout": "IPY_MODEL_7bc628b5dcc048999208a22f4edab625",
            "_model_module": "@jupyter-widgets/output"
          }
        },
        "15843578399f487a875f7c05d5044bda": {
          "model_module": "@jupyter-widgets/controls",
          "model_name": "DescriptionStyleModel",
          "model_module_version": "1.5.0",
          "state": {
            "_view_name": "StyleView",
            "_model_name": "DescriptionStyleModel",
            "description_width": "",
            "_view_module": "@jupyter-widgets/base",
            "_model_module_version": "1.5.0",
            "_view_count": null,
            "_view_module_version": "1.2.0",
            "_model_module": "@jupyter-widgets/controls"
          }
        },
        "2c02611726374d1b8b7abc202f58900f": {
          "model_module": "@jupyter-widgets/base",
          "model_name": "LayoutModel",
          "model_module_version": "1.2.0",
          "state": {
            "_view_name": "LayoutView",
            "grid_template_rows": null,
            "right": null,
            "justify_content": null,
            "_view_module": "@jupyter-widgets/base",
            "overflow": null,
            "_model_module_version": "1.2.0",
            "_view_count": null,
            "flex_flow": null,
            "width": null,
            "min_width": null,
            "border": null,
            "align_items": null,
            "bottom": null,
            "_model_module": "@jupyter-widgets/base",
            "top": null,
            "grid_column": null,
            "overflow_y": null,
            "overflow_x": null,
            "grid_auto_flow": null,
            "grid_area": null,
            "grid_template_columns": null,
            "flex": null,
            "_model_name": "LayoutModel",
            "justify_items": null,
            "grid_row": null,
            "max_height": null,
            "align_content": null,
            "visibility": null,
            "align_self": null,
            "height": null,
            "min_height": null,
            "padding": null,
            "grid_auto_rows": null,
            "grid_gap": null,
            "max_width": null,
            "order": null,
            "_view_module_version": "1.2.0",
            "grid_template_areas": null,
            "object_position": null,
            "object_fit": null,
            "grid_auto_columns": null,
            "margin": null,
            "display": null,
            "left": null
          }
        },
        "ce4f265460004a3ab91f3a7a1018dd85": {
          "model_module": "@jupyter-widgets/controls",
          "model_name": "SliderStyleModel",
          "model_module_version": "1.5.0",
          "state": {
            "_view_name": "StyleView",
            "handle_color": null,
            "_model_name": "SliderStyleModel",
            "description_width": "",
            "_view_module": "@jupyter-widgets/base",
            "_model_module_version": "1.5.0",
            "_view_count": null,
            "_view_module_version": "1.2.0",
            "_model_module": "@jupyter-widgets/controls"
          }
        },
        "8cb190e7cf7e4f6b8ea8479cdc13e2f2": {
          "model_module": "@jupyter-widgets/base",
          "model_name": "LayoutModel",
          "model_module_version": "1.2.0",
          "state": {
            "_view_name": "LayoutView",
            "grid_template_rows": null,
            "right": null,
            "justify_content": null,
            "_view_module": "@jupyter-widgets/base",
            "overflow": null,
            "_model_module_version": "1.2.0",
            "_view_count": null,
            "flex_flow": null,
            "width": null,
            "min_width": null,
            "border": null,
            "align_items": null,
            "bottom": null,
            "_model_module": "@jupyter-widgets/base",
            "top": null,
            "grid_column": null,
            "overflow_y": null,
            "overflow_x": null,
            "grid_auto_flow": null,
            "grid_area": null,
            "grid_template_columns": null,
            "flex": null,
            "_model_name": "LayoutModel",
            "justify_items": null,
            "grid_row": null,
            "max_height": null,
            "align_content": null,
            "visibility": null,
            "align_self": null,
            "height": null,
            "min_height": null,
            "padding": null,
            "grid_auto_rows": null,
            "grid_gap": null,
            "max_width": null,
            "order": null,
            "_view_module_version": "1.2.0",
            "grid_template_areas": null,
            "object_position": null,
            "object_fit": null,
            "grid_auto_columns": null,
            "margin": null,
            "display": null,
            "left": null
          }
        },
        "92063e7753aa412d80a6cf07cf40637c": {
          "model_module": "@jupyter-widgets/controls",
          "model_name": "SliderStyleModel",
          "model_module_version": "1.5.0",
          "state": {
            "_view_name": "StyleView",
            "handle_color": null,
            "_model_name": "SliderStyleModel",
            "description_width": "",
            "_view_module": "@jupyter-widgets/base",
            "_model_module_version": "1.5.0",
            "_view_count": null,
            "_view_module_version": "1.2.0",
            "_model_module": "@jupyter-widgets/controls"
          }
        },
        "82bbe257b56242d8987f56fcd88d1e19": {
          "model_module": "@jupyter-widgets/base",
          "model_name": "LayoutModel",
          "model_module_version": "1.2.0",
          "state": {
            "_view_name": "LayoutView",
            "grid_template_rows": null,
            "right": null,
            "justify_content": null,
            "_view_module": "@jupyter-widgets/base",
            "overflow": null,
            "_model_module_version": "1.2.0",
            "_view_count": null,
            "flex_flow": null,
            "width": null,
            "min_width": null,
            "border": null,
            "align_items": null,
            "bottom": null,
            "_model_module": "@jupyter-widgets/base",
            "top": null,
            "grid_column": null,
            "overflow_y": null,
            "overflow_x": null,
            "grid_auto_flow": null,
            "grid_area": null,
            "grid_template_columns": null,
            "flex": null,
            "_model_name": "LayoutModel",
            "justify_items": null,
            "grid_row": null,
            "max_height": null,
            "align_content": null,
            "visibility": null,
            "align_self": null,
            "height": null,
            "min_height": null,
            "padding": null,
            "grid_auto_rows": null,
            "grid_gap": null,
            "max_width": null,
            "order": null,
            "_view_module_version": "1.2.0",
            "grid_template_areas": null,
            "object_position": null,
            "object_fit": null,
            "grid_auto_columns": null,
            "margin": null,
            "display": null,
            "left": null
          }
        },
        "d63436394a7840adbeb1b5c7dd5afd86": {
          "model_module": "@jupyter-widgets/controls",
          "model_name": "SliderStyleModel",
          "model_module_version": "1.5.0",
          "state": {
            "_view_name": "StyleView",
            "handle_color": null,
            "_model_name": "SliderStyleModel",
            "description_width": "",
            "_view_module": "@jupyter-widgets/base",
            "_model_module_version": "1.5.0",
            "_view_count": null,
            "_view_module_version": "1.2.0",
            "_model_module": "@jupyter-widgets/controls"
          }
        },
        "114f14af56d64d259ad976a2916ef7c4": {
          "model_module": "@jupyter-widgets/base",
          "model_name": "LayoutModel",
          "model_module_version": "1.2.0",
          "state": {
            "_view_name": "LayoutView",
            "grid_template_rows": null,
            "right": null,
            "justify_content": null,
            "_view_module": "@jupyter-widgets/base",
            "overflow": null,
            "_model_module_version": "1.2.0",
            "_view_count": null,
            "flex_flow": null,
            "width": null,
            "min_width": null,
            "border": null,
            "align_items": null,
            "bottom": null,
            "_model_module": "@jupyter-widgets/base",
            "top": null,
            "grid_column": null,
            "overflow_y": null,
            "overflow_x": null,
            "grid_auto_flow": null,
            "grid_area": null,
            "grid_template_columns": null,
            "flex": null,
            "_model_name": "LayoutModel",
            "justify_items": null,
            "grid_row": null,
            "max_height": null,
            "align_content": null,
            "visibility": null,
            "align_self": null,
            "height": null,
            "min_height": null,
            "padding": null,
            "grid_auto_rows": null,
            "grid_gap": null,
            "max_width": null,
            "order": null,
            "_view_module_version": "1.2.0",
            "grid_template_areas": null,
            "object_position": null,
            "object_fit": null,
            "grid_auto_columns": null,
            "margin": null,
            "display": null,
            "left": null
          }
        },
        "75da536622074f7e933423d88271a53f": {
          "model_module": "@jupyter-widgets/controls",
          "model_name": "SliderStyleModel",
          "model_module_version": "1.5.0",
          "state": {
            "_view_name": "StyleView",
            "handle_color": null,
            "_model_name": "SliderStyleModel",
            "description_width": "",
            "_view_module": "@jupyter-widgets/base",
            "_model_module_version": "1.5.0",
            "_view_count": null,
            "_view_module_version": "1.2.0",
            "_model_module": "@jupyter-widgets/controls"
          }
        },
        "11d36ed4a6fa4dbd96f9fd6e85d79cbd": {
          "model_module": "@jupyter-widgets/base",
          "model_name": "LayoutModel",
          "model_module_version": "1.2.0",
          "state": {
            "_view_name": "LayoutView",
            "grid_template_rows": null,
            "right": null,
            "justify_content": null,
            "_view_module": "@jupyter-widgets/base",
            "overflow": null,
            "_model_module_version": "1.2.0",
            "_view_count": null,
            "flex_flow": null,
            "width": null,
            "min_width": null,
            "border": null,
            "align_items": null,
            "bottom": null,
            "_model_module": "@jupyter-widgets/base",
            "top": null,
            "grid_column": null,
            "overflow_y": null,
            "overflow_x": null,
            "grid_auto_flow": null,
            "grid_area": null,
            "grid_template_columns": null,
            "flex": null,
            "_model_name": "LayoutModel",
            "justify_items": null,
            "grid_row": null,
            "max_height": null,
            "align_content": null,
            "visibility": null,
            "align_self": null,
            "height": null,
            "min_height": null,
            "padding": null,
            "grid_auto_rows": null,
            "grid_gap": null,
            "max_width": null,
            "order": null,
            "_view_module_version": "1.2.0",
            "grid_template_areas": null,
            "object_position": null,
            "object_fit": null,
            "grid_auto_columns": null,
            "margin": null,
            "display": null,
            "left": null
          }
        },
        "7bc628b5dcc048999208a22f4edab625": {
          "model_module": "@jupyter-widgets/base",
          "model_name": "LayoutModel",
          "model_module_version": "1.2.0",
          "state": {
            "_view_name": "LayoutView",
            "grid_template_rows": null,
            "right": null,
            "justify_content": null,
            "_view_module": "@jupyter-widgets/base",
            "overflow": null,
            "_model_module_version": "1.2.0",
            "_view_count": null,
            "flex_flow": null,
            "width": null,
            "min_width": null,
            "border": null,
            "align_items": null,
            "bottom": null,
            "_model_module": "@jupyter-widgets/base",
            "top": null,
            "grid_column": null,
            "overflow_y": null,
            "overflow_x": null,
            "grid_auto_flow": null,
            "grid_area": null,
            "grid_template_columns": null,
            "flex": null,
            "_model_name": "LayoutModel",
            "justify_items": null,
            "grid_row": null,
            "max_height": null,
            "align_content": null,
            "visibility": null,
            "align_self": null,
            "height": null,
            "min_height": null,
            "padding": null,
            "grid_auto_rows": null,
            "grid_gap": null,
            "max_width": null,
            "order": null,
            "_view_module_version": "1.2.0",
            "grid_template_areas": null,
            "object_position": null,
            "object_fit": null,
            "grid_auto_columns": null,
            "margin": null,
            "display": null,
            "left": null
          }
        }
      }
    }
  },
  "cells": [
    {
      "cell_type": "code",
      "metadata": {
        "id": "4jiUZ6wSdR05"
      },
      "source": [
        "import numpy as np\n",
        "import matplotlib.pyplot as plt\n",
        "import pandas as pd\n",
        "import ipywidgets as widgets \n",
        "from ipywidgets import interact, interact_manual\n",
        "import plotly.graph_objects as go"
      ],
      "execution_count": null,
      "outputs": []
    },
    {
      "cell_type": "markdown",
      "metadata": {
        "id": "exRiNa588zHP"
      },
      "source": [
        "### What is the Hoeffding's inequality \n",
        "\n",
        "\\begin{align}\n",
        "P[\\:|R(h) -\\hat R_n(h)|\\: \\gt \\epsilon] \\leq 2e^{-2\\epsilon^{2}N} \\: \\: (1)\n",
        "\\end{align}\n",
        "\n",
        "\\begin{align}\n",
        "P[\\:|\\hat R_n(h)- R(h)|\\: \\leq \\epsilon] \\gt 1 - 2e^{-2\\epsilon^{2}N} \\: \\: (2)\n",
        "\\end{align}\n",
        "\n",
        "$R(h)$ is your test error(out of sample error/true error) and $\\hat R_n(h)$ is your training error(in sample error). $\\epsilon$ is the difference between these two errors and a measure of generalisation. $N$ is the number of training samples taken.\n",
        "\n",
        "### Why is it useful?\n",
        "\n",
        "Notice how the formula does not have any variables for the number of total data points in the whole set? This means it can be applied to any set size to a reasonable degree.\n",
        "\n",
        "Let's say that a country wants to choose it's national animal and are stuck between cats and dogs. They decide to take a vote and choose whatever has the majority. You just finished casting your vote and you would like to estimate the most likely outcome of this referendum. You need to sample a large number of people (ask how they voted) to get a realistic idea of the split but you don't know how likely this estimate is to be the true outcome and what is the possible error you are making if the number of people you sample is small.\n",
        "\n",
        "This is where Hoeffding comes into play. Assume that the result from your sample is $\\hat R_n(h)$, the real results is $R(h)$ and the number of people you asked their vote is $N$. Equation 2 is a measure of the probability of your results being $\\epsilon$ different from the true results. Let your question be \"Did you vote for dogs?\", $N=1000$, $\\hat R_n(h) = 0.7$, $\\epsilon = 0.05$.\n"
      ]
    },
    {
      "cell_type": "markdown",
      "metadata": {
        "id": "4D68-OW3-7VD"
      },
      "source": [
        "$P[\\hat R_n(h) -\\epsilon\\leq R(h) \\leq \\hat R_n(h)  +\\epsilon] \\gt 1 - 2e^{-2\\epsilon^{2}N}$\n",
        "\n",
        "$ P[0.65\\leq R(h) \\leq 0.75] \\gt  1 - 2e^ {-2*0.05^2*1000}$\n",
        "\n",
        "$ P[0.65\\leq R(h) \\leq 0.75] \\gt  0.9865$\n",
        "\n",
        "A 98.65% confidence is very good. But there are some restrictions, the samples have to be random(IID) and we can never get a 100% guarantee, there is always a chance of error, $N$ has to be large($\\epsilon^2N \\gg 0$) and the data must be sampled randomly from the same distribution as the rest of the data.  \n",
        "\n",
        "Now you have to use this to create a calculator in Python. \n",
        "A template has been created for you."
      ]
    },
    {
      "cell_type": "markdown",
      "metadata": {
        "id": "8hYh9PFDJi8a"
      },
      "source": [
        "# Task 1"
      ]
    },
    {
      "cell_type": "code",
      "metadata": {
        "colab": {
          "base_uri": "https://localhost:8080/",
          "height": 194,
          "referenced_widgets": [
            "b9d0c86cb70f4f96bc5ea0c75ba343c3",
            "01ec080896c641448817386ba3fff73d",
            "8a803df1cdbd45899bf9039cd2752d9a",
            "fb58e653866a4e0eb751d9ac8948aa2d",
            "d9eb0b652e814661996f2dfdec77d0ea",
            "baa3be63753342d08c923f568a7d9838",
            "ad869cbd9fa44d9690a933a66c26b4f4",
            "284e5124dca6489b9f4d545e9707d283",
            "15843578399f487a875f7c05d5044bda",
            "2c02611726374d1b8b7abc202f58900f",
            "ce4f265460004a3ab91f3a7a1018dd85",
            "8cb190e7cf7e4f6b8ea8479cdc13e2f2",
            "92063e7753aa412d80a6cf07cf40637c",
            "82bbe257b56242d8987f56fcd88d1e19",
            "d63436394a7840adbeb1b5c7dd5afd86",
            "114f14af56d64d259ad976a2916ef7c4",
            "75da536622074f7e933423d88271a53f",
            "11d36ed4a6fa4dbd96f9fd6e85d79cbd",
            "7bc628b5dcc048999208a22f4edab625"
          ]
        },
        "id": "vu1sXaOecPzb",
        "outputId": "9b2c79e7-805e-4b67-f4d7-5cc09d3464d1"
      },
      "source": [
        "@interact\n",
        "def calc(Parameter =widgets.Combobox(options=['Train Error', 'Epsilon', 'Probability',\"Number of Data Points\"]), training_error = (0.0,1.0,0.05),epsilon = (0.0,1.0,0.05),P= (0.0,1.0,0.05),N = (0,10000,10) ):\n",
        "  if(Parameter == 'Train Error' ):\n",
        "    training_error = None\n",
        "  elif(Parameter == 'Epsilon'):\n",
        "    epsilon = None\n",
        "  elif(Parameter == 'Probability'):\n",
        "    P = None\n",
        "  elif(Parameter == 'Number of Data Points'):\n",
        "    N = None\n",
        "\n",
        "  print(training_error,epsilon,P,N)\n"
      ],
      "execution_count": null,
      "outputs": [
        {
          "output_type": "display_data",
          "data": {
            "application/vnd.jupyter.widget-view+json": {
              "model_id": "b9d0c86cb70f4f96bc5ea0c75ba343c3",
              "version_minor": 0,
              "version_major": 2
            },
            "text/plain": [
              "interactive(children=(Combobox(value='', description='Parameter', options=('Train Error', 'Epsilon', 'Probabil…"
            ]
          },
          "metadata": {}
        }
      ]
    },
    {
      "cell_type": "markdown",
      "metadata": {
        "id": "XxmmXyHeWBR_"
      },
      "source": [
        "# Task 2"
      ]
    },
    {
      "cell_type": "markdown",
      "metadata": {
        "id": "Myc_1d7XWMJD"
      },
      "source": [
        "Use the calculator you created in task 1 to solve the following problem.\n",
        "\n",
        "Find the number of data points required to obtain a test error of 0.2, $\\epsilon$ of 0.05 and a probability of 0.8"
      ]
    },
    {
      "cell_type": "markdown",
      "metadata": {
        "id": "Tr9yZGt27adX"
      },
      "source": [
        "# Noise in labels"
      ]
    },
    {
      "cell_type": "markdown",
      "metadata": {
        "id": "m3GPRyhF7ZAt"
      },
      "source": [
        "### Deterministic Noise\n",
        "A complexity of $f$ presents itself in labels as deterministic noise. \n",
        "\n",
        "Complexity of $f$ is relative to the problem (true function) that we are attempting to model. Our aim is to get $R(g) \\approx \\hat R_n(g)$ and  maintain $ \\hat R_n(g) \\approx 0$. \n",
        "\n",
        "For a more complex $f$ we need a large $\\mathcal{H}$ to get $ \\hat R_n(g) \\approx 0$. But as we make $\\mathcal{H}$ larger, $R(g) \\approx \\hat R_n(g)$ becomes a looser approximation, thus we cannot say that $R(g) \\approx 0 $ anymore. A remedy for this is to increase $N$. Thus we can say that for a more complex $f$ we need a large $N$.\n",
        "\n",
        "\n",
        "\n",
        "\n"
      ]
    },
    {
      "cell_type": "markdown",
      "metadata": {
        "id": "vcoORzfFEgoG"
      },
      "source": [
        "### Stochastic Noise\n",
        "A non deterministic $f$ presents itself in labels as stocastic noise.\n",
        "\n",
        "It means that there is a certain degree of randomness to the labels and the exact same $x$ might have a different $y$. The source of this noise is the measurement(human error) or the $f$ is a distribution over the outputs ( $f = P[y|x]$).\n",
        "\n",
        "The problem with"
      ]
    }
  ]
}