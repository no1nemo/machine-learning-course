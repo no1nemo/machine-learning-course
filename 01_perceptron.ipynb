{
  "nbformat": 4,
  "nbformat_minor": 0,
  "metadata": {
    "colab": {
      "name": "01_perceptron.ipynb",
      "provenance": [],
      "collapsed_sections": [],
      "include_colab_link": true
    },
    "kernelspec": {
      "name": "python3",
      "display_name": "Python 3"
    },
    "language_info": {
      "name": "python"
    },
    "widgets": {
      "application/vnd.jupyter.widget-state+json": {
        "0022f422e41a4c299b99883c321c79e3": {
          "model_module": "@jupyter-widgets/controls",
          "model_name": "VBoxModel",
          "model_module_version": "1.5.0",
          "state": {
            "_view_name": "VBoxView",
            "_dom_classes": [
              "widget-interact"
            ],
            "_model_name": "VBoxModel",
            "_view_module": "@jupyter-widgets/controls",
            "_model_module_version": "1.5.0",
            "_view_count": null,
            "_view_module_version": "1.5.0",
            "box_style": "",
            "layout": "IPY_MODEL_6d5c02d9ba5e49db9a1ddc0edaae8ddb",
            "_model_module": "@jupyter-widgets/controls",
            "children": [
              "IPY_MODEL_c3899550957a420798f6f11aeca7a0cd",
              "IPY_MODEL_a014bd143a4a4ee2a42aaf47ab8ab589"
            ]
          }
        },
        "6d5c02d9ba5e49db9a1ddc0edaae8ddb": {
          "model_module": "@jupyter-widgets/base",
          "model_name": "LayoutModel",
          "model_module_version": "1.2.0",
          "state": {
            "_view_name": "LayoutView",
            "grid_template_rows": null,
            "right": null,
            "justify_content": null,
            "_view_module": "@jupyter-widgets/base",
            "overflow": null,
            "_model_module_version": "1.2.0",
            "_view_count": null,
            "flex_flow": null,
            "width": null,
            "min_width": null,
            "border": null,
            "align_items": null,
            "bottom": null,
            "_model_module": "@jupyter-widgets/base",
            "top": null,
            "grid_column": null,
            "overflow_y": null,
            "overflow_x": null,
            "grid_auto_flow": null,
            "grid_area": null,
            "grid_template_columns": null,
            "flex": null,
            "_model_name": "LayoutModel",
            "justify_items": null,
            "grid_row": null,
            "max_height": null,
            "align_content": null,
            "visibility": null,
            "align_self": null,
            "height": null,
            "min_height": null,
            "padding": null,
            "grid_auto_rows": null,
            "grid_gap": null,
            "max_width": null,
            "order": null,
            "_view_module_version": "1.2.0",
            "grid_template_areas": null,
            "object_position": null,
            "object_fit": null,
            "grid_auto_columns": null,
            "margin": null,
            "display": null,
            "left": null
          }
        },
        "c3899550957a420798f6f11aeca7a0cd": {
          "model_module": "@jupyter-widgets/controls",
          "model_name": "IntSliderModel",
          "model_module_version": "1.5.0",
          "state": {
            "_view_name": "IntSliderView",
            "style": "IPY_MODEL_1a3abda36e39412ea6432a1e4f711aed",
            "_dom_classes": [],
            "description": "iteration",
            "step": 1,
            "_model_name": "IntSliderModel",
            "orientation": "horizontal",
            "max": 12,
            "_view_module": "@jupyter-widgets/controls",
            "_model_module_version": "1.5.0",
            "value": 6,
            "_view_count": null,
            "disabled": false,
            "_view_module_version": "1.5.0",
            "min": 0,
            "continuous_update": true,
            "readout_format": "d",
            "description_tooltip": null,
            "readout": true,
            "_model_module": "@jupyter-widgets/controls",
            "layout": "IPY_MODEL_3f885bb438584fe2b84dfc1e9b410501"
          }
        },
        "a014bd143a4a4ee2a42aaf47ab8ab589": {
          "model_module": "@jupyter-widgets/output",
          "model_name": "OutputModel",
          "model_module_version": "1.0.0",
          "state": {
            "_view_name": "OutputView",
            "msg_id": "",
            "_dom_classes": [],
            "_model_name": "OutputModel",
            "outputs": [
              {
                "output_type": "display_data",
                "data": {
                  "image/png": "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\n",
                  "text/plain": "<Figure size 432x288 with 1 Axes>"
                },
                "metadata": {
                  "needs_background": "light"
                }
              }
            ],
            "_view_module": "@jupyter-widgets/output",
            "_model_module_version": "1.0.0",
            "_view_count": null,
            "_view_module_version": "1.0.0",
            "layout": "IPY_MODEL_efd26639cf7641bbb2a15af2fd4e960b",
            "_model_module": "@jupyter-widgets/output"
          }
        },
        "1a3abda36e39412ea6432a1e4f711aed": {
          "model_module": "@jupyter-widgets/controls",
          "model_name": "SliderStyleModel",
          "model_module_version": "1.5.0",
          "state": {
            "_view_name": "StyleView",
            "handle_color": null,
            "_model_name": "SliderStyleModel",
            "description_width": "",
            "_view_module": "@jupyter-widgets/base",
            "_model_module_version": "1.5.0",
            "_view_count": null,
            "_view_module_version": "1.2.0",
            "_model_module": "@jupyter-widgets/controls"
          }
        },
        "3f885bb438584fe2b84dfc1e9b410501": {
          "model_module": "@jupyter-widgets/base",
          "model_name": "LayoutModel",
          "model_module_version": "1.2.0",
          "state": {
            "_view_name": "LayoutView",
            "grid_template_rows": null,
            "right": null,
            "justify_content": null,
            "_view_module": "@jupyter-widgets/base",
            "overflow": null,
            "_model_module_version": "1.2.0",
            "_view_count": null,
            "flex_flow": null,
            "width": null,
            "min_width": null,
            "border": null,
            "align_items": null,
            "bottom": null,
            "_model_module": "@jupyter-widgets/base",
            "top": null,
            "grid_column": null,
            "overflow_y": null,
            "overflow_x": null,
            "grid_auto_flow": null,
            "grid_area": null,
            "grid_template_columns": null,
            "flex": null,
            "_model_name": "LayoutModel",
            "justify_items": null,
            "grid_row": null,
            "max_height": null,
            "align_content": null,
            "visibility": null,
            "align_self": null,
            "height": null,
            "min_height": null,
            "padding": null,
            "grid_auto_rows": null,
            "grid_gap": null,
            "max_width": null,
            "order": null,
            "_view_module_version": "1.2.0",
            "grid_template_areas": null,
            "object_position": null,
            "object_fit": null,
            "grid_auto_columns": null,
            "margin": null,
            "display": null,
            "left": null
          }
        },
        "efd26639cf7641bbb2a15af2fd4e960b": {
          "model_module": "@jupyter-widgets/base",
          "model_name": "LayoutModel",
          "model_module_version": "1.2.0",
          "state": {
            "_view_name": "LayoutView",
            "grid_template_rows": null,
            "right": null,
            "justify_content": null,
            "_view_module": "@jupyter-widgets/base",
            "overflow": null,
            "_model_module_version": "1.2.0",
            "_view_count": null,
            "flex_flow": null,
            "width": null,
            "min_width": null,
            "border": null,
            "align_items": null,
            "bottom": null,
            "_model_module": "@jupyter-widgets/base",
            "top": null,
            "grid_column": null,
            "overflow_y": null,
            "overflow_x": null,
            "grid_auto_flow": null,
            "grid_area": null,
            "grid_template_columns": null,
            "flex": null,
            "_model_name": "LayoutModel",
            "justify_items": null,
            "grid_row": null,
            "max_height": null,
            "align_content": null,
            "visibility": null,
            "align_self": null,
            "height": null,
            "min_height": null,
            "padding": null,
            "grid_auto_rows": null,
            "grid_gap": null,
            "max_width": null,
            "order": null,
            "_view_module_version": "1.2.0",
            "grid_template_areas": null,
            "object_position": null,
            "object_fit": null,
            "grid_auto_columns": null,
            "margin": null,
            "display": null,
            "left": null
          }
        },
        "519da347254e43af9b12a2887977cc9a": {
          "model_module": "@jupyter-widgets/controls",
          "model_name": "VBoxModel",
          "model_module_version": "1.5.0",
          "state": {
            "_view_name": "VBoxView",
            "_dom_classes": [
              "widget-interact"
            ],
            "_model_name": "VBoxModel",
            "_view_module": "@jupyter-widgets/controls",
            "_model_module_version": "1.5.0",
            "_view_count": null,
            "_view_module_version": "1.5.0",
            "box_style": "",
            "layout": "IPY_MODEL_4243798941914b518d2bd8ac9225e7b1",
            "_model_module": "@jupyter-widgets/controls",
            "children": [
              "IPY_MODEL_11aa0f87d5b4400e897d66813b3c136a",
              "IPY_MODEL_740e9b1fb62a4db2b0de5e2753541ad2"
            ]
          }
        },
        "4243798941914b518d2bd8ac9225e7b1": {
          "model_module": "@jupyter-widgets/base",
          "model_name": "LayoutModel",
          "model_module_version": "1.2.0",
          "state": {
            "_view_name": "LayoutView",
            "grid_template_rows": null,
            "right": null,
            "justify_content": null,
            "_view_module": "@jupyter-widgets/base",
            "overflow": null,
            "_model_module_version": "1.2.0",
            "_view_count": null,
            "flex_flow": null,
            "width": null,
            "min_width": null,
            "border": null,
            "align_items": null,
            "bottom": null,
            "_model_module": "@jupyter-widgets/base",
            "top": null,
            "grid_column": null,
            "overflow_y": null,
            "overflow_x": null,
            "grid_auto_flow": null,
            "grid_area": null,
            "grid_template_columns": null,
            "flex": null,
            "_model_name": "LayoutModel",
            "justify_items": null,
            "grid_row": null,
            "max_height": null,
            "align_content": null,
            "visibility": null,
            "align_self": null,
            "height": null,
            "min_height": null,
            "padding": null,
            "grid_auto_rows": null,
            "grid_gap": null,
            "max_width": null,
            "order": null,
            "_view_module_version": "1.2.0",
            "grid_template_areas": null,
            "object_position": null,
            "object_fit": null,
            "grid_auto_columns": null,
            "margin": null,
            "display": null,
            "left": null
          }
        },
        "11aa0f87d5b4400e897d66813b3c136a": {
          "model_module": "@jupyter-widgets/controls",
          "model_name": "IntSliderModel",
          "model_module_version": "1.5.0",
          "state": {
            "_view_name": "IntSliderView",
            "style": "IPY_MODEL_68c4a00a04da49e694f890f5876a53f8",
            "_dom_classes": [],
            "description": "iteration",
            "step": 1,
            "_model_name": "IntSliderModel",
            "orientation": "horizontal",
            "max": 12,
            "_view_module": "@jupyter-widgets/controls",
            "_model_module_version": "1.5.0",
            "value": 6,
            "_view_count": null,
            "disabled": false,
            "_view_module_version": "1.5.0",
            "min": 0,
            "continuous_update": true,
            "readout_format": "d",
            "description_tooltip": null,
            "readout": true,
            "_model_module": "@jupyter-widgets/controls",
            "layout": "IPY_MODEL_294061dd139c43ceb7059b09c98bca8f"
          }
        },
        "740e9b1fb62a4db2b0de5e2753541ad2": {
          "model_module": "@jupyter-widgets/output",
          "model_name": "OutputModel",
          "model_module_version": "1.0.0",
          "state": {
            "_view_name": "OutputView",
            "msg_id": "",
            "_dom_classes": [],
            "_model_name": "OutputModel",
            "outputs": [
              {
                "output_type": "display_data",
                "data": {
                  "text/html": "<html>\n<head><meta charset=\"utf-8\" /></head>\n<body>\n    <div>\n            <script src=\"https://cdnjs.cloudflare.com/ajax/libs/mathjax/2.7.5/MathJax.js?config=TeX-AMS-MML_SVG\"></script><script type=\"text/javascript\">if (window.MathJax) {MathJax.Hub.Config({SVG: {font: \"STIX-Web\"}});}</script>\n                <script type=\"text/javascript\">window.PlotlyConfig = {MathJaxConfig: 'local'};</script>\n        <script src=\"https://cdn.plot.ly/plotly-latest.min.js\"></script>    \n            <div id=\"a4cb5b6f-2db4-4ea4-947d-47a96de8ab14\" class=\"plotly-graph-div\" style=\"height:525px; width:100%;\"></div>\n            <script type=\"text/javascript\">\n                \n                    window.PLOTLYENV=window.PLOTLYENV || {};\n                    \n                if (document.getElementById(\"a4cb5b6f-2db4-4ea4-947d-47a96de8ab14\")) {\n                    Plotly.newPlot(\n                        'a4cb5b6f-2db4-4ea4-947d-47a96de8ab14',\n                        [{\"type\": \"surface\", \"x\": [[-2, 12], [-2, 12]], \"y\": [[-4, -4], [9, 9]], \"z\": [[-2.473038112000001, -60.303230504], [32.414067934, -25.416124458]]}, {\"marker\": {\"color\": [\"blue\", \"blue\", \"blue\", \"blue\", \"blue\", \"red\", \"red\", \"red\", \"red\", \"red\"], \"opacity\": 0.8, \"size\": 5}, \"mode\": \"markers\", \"type\": \"scatter3d\", \"x\": [2.7810836, 1.465489372, 3.396561688, 1.38807019, 3.06407232, 7.627531214, 5.332441248, 6.922596716, 8.675418651, 7.673756466], \"y\": [2.550537003, 2.362125076, 4.400293529, 1.850220317, 3.005305973, 2.759262235, 2.088626775, 1.77106367, -0.242068655, 3.508563011], \"z\": [-1, -1, -1, -1, -1, 1, 1, 1, 1, 1]}],\n                        {\"scene\": {\"xaxis\": {\"range\": [-2, 12]}, \"yaxis\": {\"range\": [-4, 9]}, \"zaxis\": {\"range\": [-3, 3]}}, \"template\": {\"data\": {\"bar\": [{\"error_x\": {\"color\": \"#2a3f5f\"}, \"error_y\": {\"color\": \"#2a3f5f\"}, \"marker\": {\"line\": {\"color\": \"#E5ECF6\", \"width\": 0.5}}, \"type\": \"bar\"}], \"barpolar\": [{\"marker\": {\"line\": {\"color\": \"#E5ECF6\", \"width\": 0.5}}, \"type\": \"barpolar\"}], \"carpet\": [{\"aaxis\": {\"endlinecolor\": \"#2a3f5f\", \"gridcolor\": \"white\", \"linecolor\": \"white\", \"minorgridcolor\": \"white\", \"startlinecolor\": \"#2a3f5f\"}, \"baxis\": {\"endlinecolor\": \"#2a3f5f\", \"gridcolor\": \"white\", \"linecolor\": \"white\", \"minorgridcolor\": \"white\", \"startlinecolor\": \"#2a3f5f\"}, \"type\": \"carpet\"}], \"choropleth\": [{\"colorbar\": {\"outlinewidth\": 0, \"ticks\": \"\"}, \"type\": \"choropleth\"}], \"contour\": [{\"colorbar\": {\"outlinewidth\": 0, \"ticks\": \"\"}, \"colorscale\": [[0.0, \"#0d0887\"], [0.1111111111111111, \"#46039f\"], [0.2222222222222222, \"#7201a8\"], [0.3333333333333333, \"#9c179e\"], [0.4444444444444444, \"#bd3786\"], [0.5555555555555556, \"#d8576b\"], [0.6666666666666666, \"#ed7953\"], [0.7777777777777778, \"#fb9f3a\"], [0.8888888888888888, \"#fdca26\"], [1.0, \"#f0f921\"]], \"type\": \"contour\"}], \"contourcarpet\": [{\"colorbar\": {\"outlinewidth\": 0, \"ticks\": \"\"}, \"type\": \"contourcarpet\"}], \"heatmap\": [{\"colorbar\": {\"outlinewidth\": 0, \"ticks\": \"\"}, \"colorscale\": [[0.0, \"#0d0887\"], [0.1111111111111111, \"#46039f\"], [0.2222222222222222, \"#7201a8\"], [0.3333333333333333, \"#9c179e\"], [0.4444444444444444, \"#bd3786\"], [0.5555555555555556, \"#d8576b\"], [0.6666666666666666, \"#ed7953\"], [0.7777777777777778, \"#fb9f3a\"], [0.8888888888888888, \"#fdca26\"], [1.0, \"#f0f921\"]], \"type\": \"heatmap\"}], \"heatmapgl\": [{\"colorbar\": {\"outlinewidth\": 0, \"ticks\": \"\"}, \"colorscale\": [[0.0, \"#0d0887\"], [0.1111111111111111, \"#46039f\"], [0.2222222222222222, \"#7201a8\"], [0.3333333333333333, \"#9c179e\"], [0.4444444444444444, \"#bd3786\"], [0.5555555555555556, \"#d8576b\"], [0.6666666666666666, \"#ed7953\"], [0.7777777777777778, \"#fb9f3a\"], [0.8888888888888888, \"#fdca26\"], [1.0, \"#f0f921\"]], \"type\": \"heatmapgl\"}], \"histogram\": [{\"marker\": {\"colorbar\": {\"outlinewidth\": 0, \"ticks\": \"\"}}, \"type\": \"histogram\"}], \"histogram2d\": [{\"colorbar\": {\"outlinewidth\": 0, \"ticks\": \"\"}, \"colorscale\": [[0.0, \"#0d0887\"], [0.1111111111111111, \"#46039f\"], [0.2222222222222222, \"#7201a8\"], [0.3333333333333333, \"#9c179e\"], [0.4444444444444444, \"#bd3786\"], [0.5555555555555556, \"#d8576b\"], [0.6666666666666666, \"#ed7953\"], [0.7777777777777778, \"#fb9f3a\"], [0.8888888888888888, \"#fdca26\"], [1.0, \"#f0f921\"]], \"type\": \"histogram2d\"}], \"histogram2dcontour\": [{\"colorbar\": {\"outlinewidth\": 0, \"ticks\": \"\"}, \"colorscale\": [[0.0, \"#0d0887\"], [0.1111111111111111, \"#46039f\"], [0.2222222222222222, \"#7201a8\"], [0.3333333333333333, \"#9c179e\"], [0.4444444444444444, \"#bd3786\"], [0.5555555555555556, \"#d8576b\"], [0.6666666666666666, \"#ed7953\"], [0.7777777777777778, \"#fb9f3a\"], [0.8888888888888888, \"#fdca26\"], [1.0, \"#f0f921\"]], \"type\": \"histogram2dcontour\"}], \"mesh3d\": [{\"colorbar\": {\"outlinewidth\": 0, \"ticks\": \"\"}, \"type\": \"mesh3d\"}], \"parcoords\": [{\"line\": {\"colorbar\": {\"outlinewidth\": 0, \"ticks\": \"\"}}, \"type\": \"parcoords\"}], \"pie\": [{\"automargin\": true, \"type\": \"pie\"}], \"scatter\": [{\"marker\": {\"colorbar\": {\"outlinewidth\": 0, \"ticks\": \"\"}}, \"type\": \"scatter\"}], \"scatter3d\": [{\"line\": {\"colorbar\": {\"outlinewidth\": 0, \"ticks\": \"\"}}, \"marker\": {\"colorbar\": {\"outlinewidth\": 0, \"ticks\": \"\"}}, \"type\": \"scatter3d\"}], \"scattercarpet\": [{\"marker\": {\"colorbar\": {\"outlinewidth\": 0, \"ticks\": \"\"}}, \"type\": \"scattercarpet\"}], \"scattergeo\": [{\"marker\": {\"colorbar\": {\"outlinewidth\": 0, \"ticks\": \"\"}}, \"type\": \"scattergeo\"}], \"scattergl\": [{\"marker\": {\"colorbar\": {\"outlinewidth\": 0, \"ticks\": \"\"}}, \"type\": \"scattergl\"}], \"scattermapbox\": [{\"marker\": {\"colorbar\": {\"outlinewidth\": 0, \"ticks\": \"\"}}, \"type\": \"scattermapbox\"}], \"scatterpolar\": [{\"marker\": {\"colorbar\": {\"outlinewidth\": 0, \"ticks\": \"\"}}, \"type\": \"scatterpolar\"}], \"scatterpolargl\": [{\"marker\": {\"colorbar\": {\"outlinewidth\": 0, \"ticks\": \"\"}}, \"type\": \"scatterpolargl\"}], \"scatterternary\": [{\"marker\": {\"colorbar\": {\"outlinewidth\": 0, \"ticks\": \"\"}}, \"type\": \"scatterternary\"}], \"surface\": [{\"colorbar\": {\"outlinewidth\": 0, \"ticks\": \"\"}, \"colorscale\": [[0.0, \"#0d0887\"], [0.1111111111111111, \"#46039f\"], [0.2222222222222222, \"#7201a8\"], [0.3333333333333333, \"#9c179e\"], [0.4444444444444444, \"#bd3786\"], [0.5555555555555556, \"#d8576b\"], [0.6666666666666666, \"#ed7953\"], [0.7777777777777778, \"#fb9f3a\"], [0.8888888888888888, \"#fdca26\"], [1.0, \"#f0f921\"]], \"type\": \"surface\"}], \"table\": [{\"cells\": {\"fill\": {\"color\": \"#EBF0F8\"}, \"line\": {\"color\": \"white\"}}, \"header\": {\"fill\": {\"color\": \"#C8D4E3\"}, \"line\": {\"color\": \"white\"}}, \"type\": \"table\"}]}, \"layout\": {\"annotationdefaults\": {\"arrowcolor\": \"#2a3f5f\", \"arrowhead\": 0, \"arrowwidth\": 1}, \"coloraxis\": {\"colorbar\": {\"outlinewidth\": 0, \"ticks\": \"\"}}, \"colorscale\": {\"diverging\": [[0, \"#8e0152\"], [0.1, \"#c51b7d\"], [0.2, \"#de77ae\"], [0.3, \"#f1b6da\"], [0.4, \"#fde0ef\"], [0.5, \"#f7f7f7\"], [0.6, \"#e6f5d0\"], [0.7, \"#b8e186\"], [0.8, \"#7fbc41\"], [0.9, \"#4d9221\"], [1, \"#276419\"]], \"sequential\": [[0.0, \"#0d0887\"], [0.1111111111111111, \"#46039f\"], [0.2222222222222222, \"#7201a8\"], [0.3333333333333333, \"#9c179e\"], [0.4444444444444444, \"#bd3786\"], [0.5555555555555556, \"#d8576b\"], [0.6666666666666666, \"#ed7953\"], [0.7777777777777778, \"#fb9f3a\"], [0.8888888888888888, \"#fdca26\"], [1.0, \"#f0f921\"]], \"sequentialminus\": [[0.0, \"#0d0887\"], [0.1111111111111111, \"#46039f\"], [0.2222222222222222, \"#7201a8\"], [0.3333333333333333, \"#9c179e\"], [0.4444444444444444, \"#bd3786\"], [0.5555555555555556, \"#d8576b\"], [0.6666666666666666, \"#ed7953\"], [0.7777777777777778, \"#fb9f3a\"], [0.8888888888888888, \"#fdca26\"], [1.0, \"#f0f921\"]]}, \"colorway\": [\"#636efa\", \"#EF553B\", \"#00cc96\", \"#ab63fa\", \"#FFA15A\", \"#19d3f3\", \"#FF6692\", \"#B6E880\", \"#FF97FF\", \"#FECB52\"], \"font\": {\"color\": \"#2a3f5f\"}, \"geo\": {\"bgcolor\": \"white\", \"lakecolor\": \"white\", \"landcolor\": \"#E5ECF6\", \"showlakes\": true, \"showland\": true, \"subunitcolor\": \"white\"}, \"hoverlabel\": {\"align\": \"left\"}, \"hovermode\": \"closest\", \"mapbox\": {\"style\": \"light\"}, \"paper_bgcolor\": \"white\", \"plot_bgcolor\": \"#E5ECF6\", \"polar\": {\"angularaxis\": {\"gridcolor\": \"white\", \"linecolor\": \"white\", \"ticks\": \"\"}, \"bgcolor\": \"#E5ECF6\", \"radialaxis\": {\"gridcolor\": \"white\", \"linecolor\": \"white\", \"ticks\": \"\"}}, \"scene\": {\"xaxis\": {\"backgroundcolor\": \"#E5ECF6\", \"gridcolor\": \"white\", \"gridwidth\": 2, \"linecolor\": \"white\", \"showbackground\": true, \"ticks\": \"\", \"zerolinecolor\": \"white\"}, \"yaxis\": {\"backgroundcolor\": \"#E5ECF6\", \"gridcolor\": \"white\", \"gridwidth\": 2, \"linecolor\": \"white\", \"showbackground\": true, \"ticks\": \"\", \"zerolinecolor\": \"white\"}, \"zaxis\": {\"backgroundcolor\": \"#E5ECF6\", \"gridcolor\": \"white\", \"gridwidth\": 2, \"linecolor\": \"white\", \"showbackground\": true, \"ticks\": \"\", \"zerolinecolor\": \"white\"}}, \"shapedefaults\": {\"line\": {\"color\": \"#2a3f5f\"}}, \"ternary\": {\"aaxis\": {\"gridcolor\": \"white\", \"linecolor\": \"white\", \"ticks\": \"\"}, \"baxis\": {\"gridcolor\": \"white\", \"linecolor\": \"white\", \"ticks\": \"\"}, \"bgcolor\": \"#E5ECF6\", \"caxis\": {\"gridcolor\": \"white\", \"linecolor\": \"white\", \"ticks\": \"\"}}, \"title\": {\"x\": 0.05}, \"xaxis\": {\"automargin\": true, \"gridcolor\": \"white\", \"linecolor\": \"white\", \"ticks\": \"\", \"title\": {\"standoff\": 15}, \"zerolinecolor\": \"white\", \"zerolinewidth\": 2}, \"yaxis\": {\"automargin\": true, \"gridcolor\": \"white\", \"linecolor\": \"white\", \"ticks\": \"\", \"title\": {\"standoff\": 15}, \"zerolinecolor\": \"white\", \"zerolinewidth\": 2}}}},\n                        {\"responsive\": true}\n                    ).then(function(){\n                            \nvar gd = document.getElementById('a4cb5b6f-2db4-4ea4-947d-47a96de8ab14');\nvar x = new MutationObserver(function (mutations, observer) {{\n        var display = window.getComputedStyle(gd).display;\n        if (!display || display === 'none') {{\n            console.log([gd, 'removed!']);\n            Plotly.purge(gd);\n            observer.disconnect();\n        }}\n}});\n\n// Listen for the removal of the full notebook cells\nvar notebookContainer = gd.closest('#notebook-container');\nif (notebookContainer) {{\n    x.observe(notebookContainer, {childList: true});\n}}\n\n// Listen for the clearing of the current output cell\nvar outputEl = gd.closest('.output');\nif (outputEl) {{\n    x.observe(outputEl, {childList: true});\n}}\n\n                        })\n                };\n                \n            </script>\n        </div>\n</body>\n</html>"
                },
                "metadata": {}
              }
            ],
            "_view_module": "@jupyter-widgets/output",
            "_model_module_version": "1.0.0",
            "_view_count": null,
            "_view_module_version": "1.0.0",
            "layout": "IPY_MODEL_2372d05980d4443e81a836775e3729a3",
            "_model_module": "@jupyter-widgets/output"
          }
        },
        "68c4a00a04da49e694f890f5876a53f8": {
          "model_module": "@jupyter-widgets/controls",
          "model_name": "SliderStyleModel",
          "model_module_version": "1.5.0",
          "state": {
            "_view_name": "StyleView",
            "handle_color": null,
            "_model_name": "SliderStyleModel",
            "description_width": "",
            "_view_module": "@jupyter-widgets/base",
            "_model_module_version": "1.5.0",
            "_view_count": null,
            "_view_module_version": "1.2.0",
            "_model_module": "@jupyter-widgets/controls"
          }
        },
        "294061dd139c43ceb7059b09c98bca8f": {
          "model_module": "@jupyter-widgets/base",
          "model_name": "LayoutModel",
          "model_module_version": "1.2.0",
          "state": {
            "_view_name": "LayoutView",
            "grid_template_rows": null,
            "right": null,
            "justify_content": null,
            "_view_module": "@jupyter-widgets/base",
            "overflow": null,
            "_model_module_version": "1.2.0",
            "_view_count": null,
            "flex_flow": null,
            "width": null,
            "min_width": null,
            "border": null,
            "align_items": null,
            "bottom": null,
            "_model_module": "@jupyter-widgets/base",
            "top": null,
            "grid_column": null,
            "overflow_y": null,
            "overflow_x": null,
            "grid_auto_flow": null,
            "grid_area": null,
            "grid_template_columns": null,
            "flex": null,
            "_model_name": "LayoutModel",
            "justify_items": null,
            "grid_row": null,
            "max_height": null,
            "align_content": null,
            "visibility": null,
            "align_self": null,
            "height": null,
            "min_height": null,
            "padding": null,
            "grid_auto_rows": null,
            "grid_gap": null,
            "max_width": null,
            "order": null,
            "_view_module_version": "1.2.0",
            "grid_template_areas": null,
            "object_position": null,
            "object_fit": null,
            "grid_auto_columns": null,
            "margin": null,
            "display": null,
            "left": null
          }
        },
        "2372d05980d4443e81a836775e3729a3": {
          "model_module": "@jupyter-widgets/base",
          "model_name": "LayoutModel",
          "model_module_version": "1.2.0",
          "state": {
            "_view_name": "LayoutView",
            "grid_template_rows": null,
            "right": null,
            "justify_content": null,
            "_view_module": "@jupyter-widgets/base",
            "overflow": null,
            "_model_module_version": "1.2.0",
            "_view_count": null,
            "flex_flow": null,
            "width": null,
            "min_width": null,
            "border": null,
            "align_items": null,
            "bottom": null,
            "_model_module": "@jupyter-widgets/base",
            "top": null,
            "grid_column": null,
            "overflow_y": null,
            "overflow_x": null,
            "grid_auto_flow": null,
            "grid_area": null,
            "grid_template_columns": null,
            "flex": null,
            "_model_name": "LayoutModel",
            "justify_items": null,
            "grid_row": null,
            "max_height": null,
            "align_content": null,
            "visibility": null,
            "align_self": null,
            "height": null,
            "min_height": null,
            "padding": null,
            "grid_auto_rows": null,
            "grid_gap": null,
            "max_width": null,
            "order": null,
            "_view_module_version": "1.2.0",
            "grid_template_areas": null,
            "object_position": null,
            "object_fit": null,
            "grid_auto_columns": null,
            "margin": null,
            "display": null,
            "left": null
          }
        }
      }
    }
  },
  "cells": [
    {
      "cell_type": "markdown",
      "metadata": {
        "id": "view-in-github",
        "colab_type": "text"
      },
      "source": [
        "<a href=\"https://colab.research.google.com/github/MatchLab-Imperial/machine-learning-course/blob/main/01_perceptron.ipynb\" target=\"_parent\"><img src=\"https://colab.research.google.com/assets/colab-badge.svg\" alt=\"Open In Colab\"/></a>"
      ]
    },
    {
      "cell_type": "markdown",
      "metadata": {
        "id": "rug4loeoIMHA"
      },
      "source": [
        "# Perceptron\n",
        "\n",
        "This tutorial explores the perceptron and its associated learning algorithms (the Perceptron Learning Algorithm & the Pocket Algorithm). The perceptron as a concept is relatively simple and is thus not often used on its own as a method in modern machine learning. However it serves as an important building block for more capable machine learning models, such as neural networks which have led to the advanced field of deep learning. \n",
        "\n",
        "\n"
      ]
    },
    {
      "cell_type": "markdown",
      "metadata": {
        "id": "I46cI5FNgLZj"
      },
      "source": [
        "![IjJT0.png](data:image/png;base64,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)"
      ]
    },
    {
      "cell_type": "markdown",
      "metadata": {
        "id": "lF3bczF2gIb6"
      },
      "source": [
        "\n",
        "The perceptron (illustrated in the figure above) is a binary classifier which takes as input a vector, $\\mathbf{x} = [x_1, x_2, \\dotsc, x_n]^T$, and outputs a binary prediction $y \\in \\{-1, +1\\}$. It does this by first producing a scalar value by multiplying each element in the input vector with a learned weight of the perceptron, $\\mathbf{w} = [w_1, w_2, \\dotsc, w_n]^T$ and then summing all the resulting elements together. This operation can be expressed as a vector dot product $\\mathbf{w}^T \\mathbf{x}$. The perceptron then checks if this scalar value $\\mathbf{w}^T \\mathbf{x}$ is greater or smaller than a threshold $t$. If the value is greater than the threshold then the perceptron predicts $y = +1$ otherwise it predicts $y = -1$. This can be expressed as a linear predictor where\n",
        "\n",
        "$y  = \\begin{cases}\n",
        "          +1, & \\text{if} & \\mathbf{w}^T \\mathbf{x} \\ge t \\\\\n",
        "          -1, & \\text{if} & \\mathbf{w}^T \\mathbf{x} \\lt t\n",
        "      \\end{cases}\n",
        "$\n",
        "\n",
        "This formulation is inconvenient as it includes an extra parameter that is not part of the model. A common trick is to include it as a so called bias. We prepend $x_0 = 1$ to the input $\\mathbf{x}$ such that $\\mathbf{x} = [x_0, x_1, x_2, \\dotsc, x_n]^T$ and $\\mathbf{w} = [w_0, w_1, w_2, \\dotsc, w_n]^T$. The weight $w_0$ will now represent the threshold (more precisely $w_0 = -t$) as $\\mathbf{w}^T \\mathbf{x} = \\sum_{i=1}^n w_i x_i + w_0 x_0$ where $x_0 = 1$. \n",
        "\n",
        "With the bias, the linear predictor turns into\n",
        "\n",
        "$y  = \\begin{cases}\n",
        "          +1, & \\text{if} & \\mathbf{w}^T \\mathbf{x} \\ge 0 \\\\\n",
        "          -1, & \\text{if} & \\mathbf{w}^T \\mathbf{x} \\lt 0\n",
        "      \\end{cases} = sign(\\mathbf{w}^T \\mathbf{x})\n",
        "$\n",
        "\n",
        "This is the mathematical formulation of the perceptron. However, this does not discuss how the weights $\\mathbf{w}$ are learned. For this we need to go into the learning algorithms that are associated with the perceptron. To get a better understanding of these algorithms, this tutorial will show the python (currently the most commonly used language in machine learning) code needed to run these algorithms together with visualisations that provides more clarification."
      ]
    },
    {
      "cell_type": "markdown",
      "metadata": {
        "id": "IHKL7FDXQTSw"
      },
      "source": [
        "We first install the necessary dependencies for the visualisations used later in the notebook."
      ]
    },
    {
      "cell_type": "code",
      "metadata": {
        "colab": {
          "base_uri": "https://localhost:8080/"
        },
        "id": "4z_kRr8c2Uig",
        "outputId": "58c29ba4-a53f-4479-e7e0-b8a2f72c2e1f"
      },
      "source": [
        "# Dependencies for plotting\n",
        "!pip install ipywidgets\n",
        "import ipywidgets as widgets\n",
        "from ipywidgets import interact, interact_manual\n",
        "import numpy as np\n",
        "from matplotlib import pyplot as plt"
      ],
      "execution_count": null,
      "outputs": [
        {
          "output_type": "stream",
          "name": "stdout",
          "text": [
            "Requirement already satisfied: ipywidgets in /usr/local/lib/python3.7/dist-packages (7.6.5)\n",
            "Requirement already satisfied: jupyterlab-widgets>=1.0.0 in /usr/local/lib/python3.7/dist-packages (from ipywidgets) (1.0.2)\n",
            "Requirement already satisfied: ipykernel>=4.5.1 in /usr/local/lib/python3.7/dist-packages (from ipywidgets) (4.10.1)\n",
            "Requirement already satisfied: widgetsnbextension~=3.5.0 in /usr/local/lib/python3.7/dist-packages (from ipywidgets) (3.5.1)\n",
            "Requirement already satisfied: traitlets>=4.3.1 in /usr/local/lib/python3.7/dist-packages (from ipywidgets) (5.1.0)\n",
            "Requirement already satisfied: nbformat>=4.2.0 in /usr/local/lib/python3.7/dist-packages (from ipywidgets) (5.1.3)\n",
            "Requirement already satisfied: ipython-genutils~=0.2.0 in /usr/local/lib/python3.7/dist-packages (from ipywidgets) (0.2.0)\n",
            "Requirement already satisfied: ipython>=4.0.0 in /usr/local/lib/python3.7/dist-packages (from ipywidgets) (5.5.0)\n",
            "Requirement already satisfied: tornado>=4.0 in /usr/local/lib/python3.7/dist-packages (from ipykernel>=4.5.1->ipywidgets) (5.1.1)\n",
            "Requirement already satisfied: jupyter-client in /usr/local/lib/python3.7/dist-packages (from ipykernel>=4.5.1->ipywidgets) (5.3.5)\n",
            "Requirement already satisfied: setuptools>=18.5 in /usr/local/lib/python3.7/dist-packages (from ipython>=4.0.0->ipywidgets) (57.4.0)\n",
            "Requirement already satisfied: prompt-toolkit<2.0.0,>=1.0.4 in /usr/local/lib/python3.7/dist-packages (from ipython>=4.0.0->ipywidgets) (1.0.18)\n",
            "Requirement already satisfied: pickleshare in /usr/local/lib/python3.7/dist-packages (from ipython>=4.0.0->ipywidgets) (0.7.5)\n",
            "Requirement already satisfied: simplegeneric>0.8 in /usr/local/lib/python3.7/dist-packages (from ipython>=4.0.0->ipywidgets) (0.8.1)\n",
            "Requirement already satisfied: pygments in /usr/local/lib/python3.7/dist-packages (from ipython>=4.0.0->ipywidgets) (2.6.1)\n",
            "Requirement already satisfied: decorator in /usr/local/lib/python3.7/dist-packages (from ipython>=4.0.0->ipywidgets) (4.4.2)\n",
            "Requirement already satisfied: pexpect in /usr/local/lib/python3.7/dist-packages (from ipython>=4.0.0->ipywidgets) (4.8.0)\n",
            "Requirement already satisfied: jupyter-core in /usr/local/lib/python3.7/dist-packages (from nbformat>=4.2.0->ipywidgets) (4.8.1)\n",
            "Requirement already satisfied: jsonschema!=2.5.0,>=2.4 in /usr/local/lib/python3.7/dist-packages (from nbformat>=4.2.0->ipywidgets) (2.6.0)\n",
            "Requirement already satisfied: wcwidth in /usr/local/lib/python3.7/dist-packages (from prompt-toolkit<2.0.0,>=1.0.4->ipython>=4.0.0->ipywidgets) (0.2.5)\n",
            "Requirement already satisfied: six>=1.9.0 in /usr/local/lib/python3.7/dist-packages (from prompt-toolkit<2.0.0,>=1.0.4->ipython>=4.0.0->ipywidgets) (1.15.0)\n",
            "Requirement already satisfied: notebook>=4.4.1 in /usr/local/lib/python3.7/dist-packages (from widgetsnbextension~=3.5.0->ipywidgets) (5.3.1)\n",
            "Requirement already satisfied: terminado>=0.8.1 in /usr/local/lib/python3.7/dist-packages (from notebook>=4.4.1->widgetsnbextension~=3.5.0->ipywidgets) (0.12.1)\n",
            "Requirement already satisfied: nbconvert in /usr/local/lib/python3.7/dist-packages (from notebook>=4.4.1->widgetsnbextension~=3.5.0->ipywidgets) (5.6.1)\n",
            "Requirement already satisfied: jinja2 in /usr/local/lib/python3.7/dist-packages (from notebook>=4.4.1->widgetsnbextension~=3.5.0->ipywidgets) (2.11.3)\n",
            "Requirement already satisfied: Send2Trash in /usr/local/lib/python3.7/dist-packages (from notebook>=4.4.1->widgetsnbextension~=3.5.0->ipywidgets) (1.8.0)\n",
            "Requirement already satisfied: pyzmq>=13 in /usr/local/lib/python3.7/dist-packages (from jupyter-client->ipykernel>=4.5.1->ipywidgets) (22.3.0)\n",
            "Requirement already satisfied: python-dateutil>=2.1 in /usr/local/lib/python3.7/dist-packages (from jupyter-client->ipykernel>=4.5.1->ipywidgets) (2.8.2)\n",
            "Requirement already satisfied: ptyprocess in /usr/local/lib/python3.7/dist-packages (from terminado>=0.8.1->notebook>=4.4.1->widgetsnbextension~=3.5.0->ipywidgets) (0.7.0)\n",
            "Requirement already satisfied: MarkupSafe>=0.23 in /usr/local/lib/python3.7/dist-packages (from jinja2->notebook>=4.4.1->widgetsnbextension~=3.5.0->ipywidgets) (2.0.1)\n",
            "Requirement already satisfied: mistune<2,>=0.8.1 in /usr/local/lib/python3.7/dist-packages (from nbconvert->notebook>=4.4.1->widgetsnbextension~=3.5.0->ipywidgets) (0.8.4)\n",
            "Requirement already satisfied: entrypoints>=0.2.2 in /usr/local/lib/python3.7/dist-packages (from nbconvert->notebook>=4.4.1->widgetsnbextension~=3.5.0->ipywidgets) (0.3)\n",
            "Requirement already satisfied: defusedxml in /usr/local/lib/python3.7/dist-packages (from nbconvert->notebook>=4.4.1->widgetsnbextension~=3.5.0->ipywidgets) (0.7.1)\n",
            "Requirement already satisfied: pandocfilters>=1.4.1 in /usr/local/lib/python3.7/dist-packages (from nbconvert->notebook>=4.4.1->widgetsnbextension~=3.5.0->ipywidgets) (1.5.0)\n",
            "Requirement already satisfied: testpath in /usr/local/lib/python3.7/dist-packages (from nbconvert->notebook>=4.4.1->widgetsnbextension~=3.5.0->ipywidgets) (0.5.0)\n",
            "Requirement already satisfied: bleach in /usr/local/lib/python3.7/dist-packages (from nbconvert->notebook>=4.4.1->widgetsnbextension~=3.5.0->ipywidgets) (4.1.0)\n",
            "Requirement already satisfied: webencodings in /usr/local/lib/python3.7/dist-packages (from bleach->nbconvert->notebook>=4.4.1->widgetsnbextension~=3.5.0->ipywidgets) (0.5.1)\n",
            "Requirement already satisfied: packaging in /usr/local/lib/python3.7/dist-packages (from bleach->nbconvert->notebook>=4.4.1->widgetsnbextension~=3.5.0->ipywidgets) (21.0)\n",
            "Requirement already satisfied: pyparsing>=2.0.2 in /usr/local/lib/python3.7/dist-packages (from packaging->bleach->nbconvert->notebook>=4.4.1->widgetsnbextension~=3.5.0->ipywidgets) (2.4.7)\n"
          ]
        }
      ]
    },
    {
      "cell_type": "markdown",
      "metadata": {
        "id": "WKGeqYc9ZPmz"
      },
      "source": [
        "To train our perceptron, we need data which is used by the learning algorithms. For this tutorial we generate artificial data but for real applications this data can come from for example sensor readings. To put it into perspective, a simple real example can be data of petal lengths and petal widths, and then label  +1 can indicate that the flower is Species 1 and  labels -1 that the flower is Species 2. "
      ]
    },
    {
      "cell_type": "code",
      "metadata": {
        "id": "LJdtoiBPYmMM"
      },
      "source": [
        "def create_data():\n",
        "  # Create the made-up data. Remember that the first column is x_0 = 1, i.e. the bias\n",
        "  data = [[1, 2.7810836, 2.550537003],\n",
        "    [1, 1.465489372, 2.362125076],\n",
        "    [1, 3.396561688, 4.400293529],\n",
        "    [1, 1.38807019, 1.850220317],\n",
        "    [1, 3.06407232, 3.005305973],\n",
        "    [1, 7.627531214, 2.759262235],\n",
        "    [1, 5.332441248, 2.088626775],\n",
        "    [1, 6.922596716, 1.77106367],\n",
        "    [1, 8.675418651, -0.242068655],\n",
        "    [1, 7.673756466, 3.508563011]]\n",
        "\n",
        "  # For each entry in the toy data, we have a corresponding label.\n",
        "  labels = [-1, -1, -1, -1, -1, 1, 1, 1, 1, 1]\n",
        "\n",
        "  return data, labels"
      ],
      "execution_count": null,
      "outputs": []
    },
    {
      "cell_type": "markdown",
      "metadata": {
        "id": "rYlaWHwOZzJ8"
      },
      "source": [
        "# Perceptron Learning Algorithm (PLA)\n",
        "Having prepared our data, we are now ready to take a look at our first learning algorithm - the Perceptron Learning Algorithm (PLA). The PLA is an iterative algorithm which iterates over each data points from the dataset.\n",
        "\n",
        "Initial weights of the perceptron can be set to a vector of zeros, i.e. $\\mathbf{w} = \\mathbf{0}$. PLA then takes each data point $x_i$ and classifies it using the current perceptron weights as either $+1$ or $-1$ using $sign(\\mathbf{w}^T \\mathbf{x})$. If the classification is incorrect such that the predicted value does not match the corresponding label, i.e. $sign(\\mathbf{w}^T \\mathbf{x}) \\ne y_i$ then we stop iterating through the dataset and we update the learned weights of our perceptron.\n",
        "\n",
        "The perceptron update rule is given as $\\mathbf{w} \\leftarrow \\mathbf{w} + y_i x_i$. Note that the update is done only if the predicted label is incorrect and the weights are updated in the opposite direction to the prediction i.e., the predicted label was $+1$ while the true one was $-1$ and vice versa. In this way the error should decrease in the next iteration. After the update of the  weights, we go back to the first data point and start iterating through the points again. If the dataset is separable i.e. all data points can be classified correctly, then the algorithm will eventually iterate through all the  data points without any misclassification.\n",
        "\n",
        "Below we define one iteration of our Perceptron Learning Algorithm."
      ]
    },
    {
      "cell_type": "code",
      "metadata": {
        "id": "zvERx7EQZ2Vg"
      },
      "source": [
        "def pla_iteration(curr_weights, dataset, labels):\n",
        "  \"\"\"\n",
        "  Inputs:\n",
        "    curr_weight: current weights of the perceptron\n",
        "    data: the dataset to iterate through with PLA\n",
        "    labels: ground truth labels of the dataset\n",
        "  Output:\n",
        "    (updated_weights, finished): tuple of the new weights and a boolean\n",
        "                                 indicating if the predictor separates the data\n",
        "                                 (in the case of separable data)\n",
        "  \"\"\"\n",
        "\n",
        "\n",
        "  # Iterate through the data and the corresponding label\n",
        "  for (data_point, label) in zip(dataset, labels):\n",
        "    activation = (curr_weights[0] * data_point[0] + curr_weights[1] * data_point[1] \n",
        "                  + curr_weights[2] * data_point[2])\n",
        "\n",
        "    # sign function\n",
        "    prediction = 1 if activation > 0 else -1\n",
        "\n",
        "    # compare prediction with ground truth label\n",
        "    if prediction != label:\n",
        "      updated_weights = [curr_weights[0] + label * data_point[0], \n",
        "                         curr_weights[1] + label * data_point[1],\n",
        "                         curr_weights[2] + label * data_point[2]]\n",
        "      return (updated_weights, False)\n",
        "  \n",
        "  # No misclassified point was found, PLA has finished\n",
        "  return (curr_weights, True)"
      ],
      "execution_count": null,
      "outputs": []
    },
    {
      "cell_type": "markdown",
      "metadata": {
        "id": "PuYTKV-ldgdr"
      },
      "source": [
        "We are now ready to train our first perceptron. We first initialise the perceptron weights (in this case arbitrarily chosen to be all zeros) and then we run the PLA on our previously defined data."
      ]
    },
    {
      "cell_type": "code",
      "metadata": {
        "colab": {
          "base_uri": "https://localhost:8080/"
        },
        "id": "a9wFb30Ea8--",
        "outputId": "2d7f8d3b-52e8-4b88-f82c-bd4a83231a19"
      },
      "source": [
        "finished_pla = False\n",
        "iteration_counter = 0\n",
        "\n",
        "weights = [0, 0, 2] # Initalise weights to some arbitrary numbers \n",
        "saved_weights = []  # Save all weights for future plotting\n",
        "toy_data, toy_labels = create_data()\n",
        "\n",
        "while not finished_pla:\n",
        "  print(f\"Iteration {iteration_counter}, weights: {weights}\")\n",
        "  saved_weights.append(weights)\n",
        "  weights, finished_pla = pla_iteration(weights, toy_data, toy_labels)\n",
        "  iteration_counter += 1\n",
        "\n",
        "print(f\"The classifier has converged after {iteration_counter - 1} iterations. Weights: {weights}\")"
      ],
      "execution_count": null,
      "outputs": [
        {
          "output_type": "stream",
          "name": "stdout",
          "text": [
            "Iteration 0, weights: [0, 0, 2]\n",
            "Iteration 1, weights: [-1, -2.7810836, -0.5505370030000001]\n",
            "Iteration 2, weights: [0, 4.846447614000001, 2.208725232]\n",
            "Iteration 3, weights: [-1, 2.0653640140000005, -0.34181177100000015]\n",
            "Iteration 4, weights: [-2, -0.7157195859999996, -2.8923487740000002]\n",
            "Iteration 5, weights: [-1, 6.911811628000001, -0.13308653900000023]\n",
            "Iteration 6, weights: [-2, 4.130728028, -2.6836235420000003]\n",
            "Iteration 7, weights: [-3, 1.349644428, -5.234160545]\n",
            "Iteration 8, weights: [-2, 8.977175642, -2.47489831]\n",
            "Iteration 9, weights: [-3, 6.196092042, -5.025435313]\n",
            "Iteration 10, weights: [-4, 3.415008442, -7.575972316]\n",
            "Iteration 11, weights: [-3, 8.74744969, -5.487345541]\n",
            "Iteration 12, weights: [-4, 5.966366089999999, -8.037882544]\n",
            "The classifier has converged after 12 iterations. Weights: [-4, 5.966366089999999, -8.037882544]\n"
          ]
        }
      ]
    },
    {
      "cell_type": "markdown",
      "metadata": {
        "id": "W3wAd70t1e4q"
      },
      "source": [
        "We now use matplotlib (a common library for visualisation in Python) to visualise the decision boundary from the weights of the perceptron learning algorithm at each iteration. \n",
        "\n",
        "Make sure you have run all the necessary code (for example by going to \"Runtime\" $\\rightarrow$ \"Run all\"). After running the code, you can use the slider in the figure to see at iteration."
      ]
    },
    {
      "cell_type": "code",
      "metadata": {
        "colab": {
          "base_uri": "https://localhost:8080/",
          "height": 297,
          "referenced_widgets": [
            "0022f422e41a4c299b99883c321c79e3",
            "6d5c02d9ba5e49db9a1ddc0edaae8ddb",
            "c3899550957a420798f6f11aeca7a0cd",
            "a014bd143a4a4ee2a42aaf47ab8ab589",
            "1a3abda36e39412ea6432a1e4f711aed",
            "3f885bb438584fe2b84dfc1e9b410501",
            "efd26639cf7641bbb2a15af2fd4e960b"
          ]
        },
        "id": "hIJ6Wcpa2sUF",
        "outputId": "3dc417d3-c0be-4373-aee5-dadb63d85f6d"
      },
      "source": [
        "def plot_classifier(data, labels, w0, w1, w2, set_axis_to_data=False):\n",
        "    first_dim = list(map(lambda x: x[1], data))\n",
        "    second_dim = list(map(lambda x: x[2], data))\n",
        "    colors = ['red' if label == 1 else 'blue' for label in labels]\n",
        "\n",
        "    # Plot Data\n",
        "    plt.scatter(first_dim, second_dim, c=colors)\n",
        "\n",
        "    x1, x2 = min(first_dim) - 10, max(first_dim) + 10  # Choose two arbitrary point for plotting the classifier\n",
        "    y1, y2 = (-w1 * x1 - w0) / (w2 + 1e-8), (-w1 * x2 - w0) / (w2 + 1e-8)  # 1e-8 for avoiding division with zero, i.e. numerical stability\n",
        "\n",
        "    # Plot Classifier\n",
        "    plt.plot([x1, x2], [y1, y2])\n",
        "    \n",
        "    # Scale Axis\n",
        "    if set_axis_to_data:\n",
        "      x_margin = (max(first_dim) - min(first_dim)) * 0.1\n",
        "      y_margin = (max(second_dim) - min(second_dim)) * 0.1\n",
        "      plt.xlim(min(first_dim) - x_margin, max(first_dim) + x_margin)\n",
        "      plt.ylim(min(second_dim) - y_margin, max(second_dim) + y_margin)\n",
        "    else:\n",
        "      plt.xlim(-2, 12)\n",
        "      plt.ylim(-4, 9)\n",
        "\n",
        "@interact\n",
        "def plot_weights(iteration=(0, iteration_counter - 1)):\n",
        "    # Plot decision boundary, i.e. solve for w0 * 1 + w1 * x + w2 * y = 0\n",
        "    w0, w1, w2 = saved_weights[iteration][0], saved_weights[iteration][1], saved_weights[iteration][2]\n",
        "\n",
        "    plot_classifier(toy_data, toy_labels, w0, w1, w2)"
      ],
      "execution_count": null,
      "outputs": [
        {
          "output_type": "display_data",
          "data": {
            "application/vnd.jupyter.widget-view+json": {
              "model_id": "0022f422e41a4c299b99883c321c79e3",
              "version_minor": 0,
              "version_major": 2
            },
            "text/plain": [
              "interactive(children=(IntSlider(value=6, description='iteration', max=12), Output()), _dom_classes=('widget-in…"
            ]
          },
          "metadata": {}
        }
      ]
    },
    {
      "cell_type": "markdown",
      "metadata": {
        "id": "MaA81NdUE5oJ"
      },
      "source": [
        "An important point to make here is that the data is 3 dimensional (2 data values + one label), and there are three weight values (including bias) that make the separating classifier a plane and not a line. The plotted decision boundary is 2 dimensional only because we display the intersection line $\\mathbf{w}^T \\mathbf{x} = 0$ with 2D data plot and label in colour rather than in 3rd dimension. This line that shows the boundary that predicts +1 on one side and -1 on the other. Note that the data points have fixed values in the plot but the axes are automatically rescaled to show the line corresponding to current weights $\\mathbf{w}$.\n",
        "\n",
        "The code below plots the data and the perceptron classifier in 3 dimensions. Observe that the data is either +1 or -1 on the z-axis. The previous 2D plot shows the same as what the 3D plot shows if viewed from the top when the x-axis and y-axis are correctly aligned.\n",
        "\n",
        "Once again make sure that you run all the code. When you have, you can use the slider in the figure to see the learned perceptron at each iteration."
      ]
    },
    {
      "cell_type": "code",
      "metadata": {
        "colab": {
          "base_uri": "https://localhost:8080/",
          "height": 574,
          "referenced_widgets": [
            "519da347254e43af9b12a2887977cc9a",
            "4243798941914b518d2bd8ac9225e7b1",
            "11aa0f87d5b4400e897d66813b3c136a",
            "740e9b1fb62a4db2b0de5e2753541ad2",
            "68c4a00a04da49e694f890f5876a53f8",
            "294061dd139c43ceb7059b09c98bca8f",
            "2372d05980d4443e81a836775e3729a3"
          ]
        },
        "id": "zwnt8rbiX1rJ",
        "outputId": "e43e162e-905b-4558-a571-59f27c6d7725"
      },
      "source": [
        "import plotly.graph_objects as go\n",
        "\n",
        "# Example showing a 3d plot with z regressed over x and y, plus gaussian noise in the label\n",
        "@interact\n",
        "def plot_weights_3d(iteration=(0, iteration_counter - 1)):\n",
        "    # Data\n",
        "    first_dim = list(map(lambda x: x[1], toy_data))\n",
        "    second_dim = list(map(lambda x: x[2], toy_data))\n",
        "\n",
        "    # For Plotting the Classifier\n",
        "    xx, yy = np.meshgrid([-2, 12], [-4, 9])  # Arbitrary points to plot the classifier from\n",
        "    colors = ['red' if label == 1 else 'blue' for label in toy_labels]\n",
        "\n",
        "    # Classifier Definition\n",
        "    w0, w1, w2 = saved_weights[iteration][0], saved_weights[iteration][1], saved_weights[iteration][2]\n",
        "    classifier = -w1 * xx - w2 * yy\n",
        "\n",
        "    # Plot Classifier\n",
        "    fig = go.Figure(data=[go.Surface(z=classifier, x=xx, y=yy)])\n",
        "\n",
        "    # Plot Data\n",
        "    fig.add_scatter3d(x=first_dim, y=second_dim, z=toy_labels,\n",
        "              mode='markers',\n",
        "              marker=dict(\n",
        "                size=5,\n",
        "                color=colors,\n",
        "                opacity=0.8\n",
        "            ))\n",
        "    \n",
        "    # Scale Axis\n",
        "    fig.update_layout(\n",
        "    scene = dict(\n",
        "        xaxis = dict(range=[-2, 12],),\n",
        "        yaxis = dict(range=[-4, 9],),\n",
        "        zaxis = dict(range=[-3, 3],),),\n",
        "    )\n",
        "\n",
        "    fig.show()\n"
      ],
      "execution_count": null,
      "outputs": [
        {
          "output_type": "display_data",
          "data": {
            "application/vnd.jupyter.widget-view+json": {
              "model_id": "519da347254e43af9b12a2887977cc9a",
              "version_minor": 0,
              "version_major": 2
            },
            "text/plain": [
              "interactive(children=(IntSlider(value=6, description='iteration', max=12), Output()), _dom_classes=('widget-in…"
            ]
          },
          "metadata": {}
        }
      ]
    },
    {
      "cell_type": "markdown",
      "metadata": {
        "id": "TlMhWvQD3BzF"
      },
      "source": [
        "# Pocket Learning Algorithm\n",
        "We have so far only considered separable data, but if the dataset is non-separable then the Perceptron Learning Algorithm will never finish the iterations.\n",
        "\n",
        "To solve the problem of the Perceptron Learning Algorithm not converging on non-separable data we can use what is called the Pocket Algorithm which is a simple extension of the Perceptron Learning Algorithm. We restrict the number of iterations which we run the Perceptron Learning Algorithm (we simply stop iterating through the dataset when we have reached that number of iterations), and we keep track of the number of misclassifications at each iteration as well as the weights at that iteration. \n",
        "\n",
        "The Pocket Algorithm simply returns the weights of the learned Perceptron that achieves the least number of misclassifications.\n",
        "\n",
        "Below we define the pocket algorithm in code."
      ]
    },
    {
      "cell_type": "code",
      "metadata": {
        "id": "Rk53WkENj7jK"
      },
      "source": [
        "def pocket_algorithm(iterations, dataset, labels):\n",
        "    curr_weights = best_weights = [0, 0, 0]  # Feel free to change the initialisation of the weights!\n",
        "    min_misclassifications = float('inf')\n",
        "\n",
        "    for i in range(iterations):\n",
        "        curr_weights, finished_pla = pla_iteration(curr_weights, dataset, labels)\n",
        "\n",
        "        # If the data is actually separable, then return as normal\n",
        "        if finished_pla:\n",
        "          print(f\"Pocket Algorithm Converged After {i+1} Iterations\")\n",
        "          return curr_weights, 0\n",
        "\n",
        "        # Evaluate the new weights:\n",
        "        misclassifications = 0\n",
        "        for (data_point, label) in zip(dataset, labels):\n",
        "          activation = (curr_weights[0] * data_point[0] + curr_weights[1] * data_point[1]\n",
        "                        + curr_weights[2] * data_point[2])\n",
        "\n",
        "          # sign function\n",
        "          prediction = 1 if activation > 0 else -1\n",
        "\n",
        "          # compare prediction with ground truth label\n",
        "          if prediction != label:\n",
        "              misclassifications += 1\n",
        "\n",
        "        if misclassifications < min_misclassifications:\n",
        "            best_weights = curr_weights\n",
        "            min_misclassifications = misclassifications\n",
        "\n",
        "    return best_weights, min_misclassifications"
      ],
      "execution_count": null,
      "outputs": []
    },
    {
      "cell_type": "markdown",
      "metadata": {
        "id": "u0paXx4BOHaW"
      },
      "source": [
        "# Coursework\n",
        "\n",
        "## Task 1: Perceptron Learning Algorithm\n",
        "As an introduction to writing your own code, you are tasked to run the Perceptron Learning Algorithm on your own. Run the Perceptron Learning Algorithm on the following data:\n",
        "\n",
        "\n",
        "| x    | y    | label |\n",
        "|------|------|-------|\n",
        "| -0.5 | -9   | 1     |\n",
        "| -0.5 | 9.1  | 1     |\n",
        "| 0.2  | 10.2 | 1     |\n",
        "| 1.9  | 7.5  | 1     |\n",
        "| 4.2  | 4.1  | 1     |\n",
        "| 2.1  | -7.3 | -1    |\n",
        "| 5.9  | -3.3 | -1    |\n",
        "| 7.6  | 4.5  | -1    |\n",
        "| 8.3  | 5.7  | -1    |\n",
        "| 9.9  | 7.1  | -1    |\n",
        "| 10.1 | 10.6 | -1    |\n",
        "\n",
        "You may want to use previously defined functions, or you can create your own functions as well.\n",
        "\n",
        "**Report**:\n",
        "* By running the Perceptron Learning Algorithm on the above data, report the weights of the found linear classifier. Also specify the weights that the perceptron was initialised with.\n",
        "\n",
        "\n"
      ]
    },
    {
      "cell_type": "code",
      "metadata": {
        "id": "Oz_zlmvJnRms"
      },
      "source": [
        "# Task 1\n",
        "# Write your code here"
      ],
      "execution_count": null,
      "outputs": []
    },
    {
      "cell_type": "markdown",
      "metadata": {
        "id": "ree1AHZ8nQBq"
      },
      "source": [
        "## Task 2: Pocket Algorithm\n",
        "For the second task you are already provided with the code. Your task is to simply try out the Pocket Algorithm with different configurations. \n",
        "\n",
        "**Report**:\n",
        "By changing the noise variance and the number of iterations in the Pocket Algorithm and running the code multiple times for each configuration. Answer the following questions:\n",
        "\n",
        "* What is the effect of the variance of the gaussian noise added to the data?\n",
        "  * What happens when the noise variance is zero? Make sure that the pocket algorithm runs is set to run for at least 10 iterations.\n",
        "  * Consider how the noise variance affects both the separability / non-separability of the dataset and how it affects the number of misclassifications.\n",
        "\n",
        "* What is the effect of the number of iterations of the Pocket Algorithm? Consider how it relates to the number of misclassifications and how it is affected by the variance of the added gaussian noise?\n",
        "\n",
        "As a starting point, good values to consider are noise variances from 0 to 5, and number of iterations from 1 to 100000."
      ]
    },
    {
      "cell_type": "code",
      "metadata": {
        "id": "7TPVjoMYfvi_"
      },
      "source": [
        "# -------------------------- CHANGE THESE -------------------------- #\n",
        "noise_variance = 0\n",
        "pocket_algorithm_iterations = 1000\n",
        "# ------------------------------------------------------------------ #\n",
        "\n",
        "import random\n",
        "\n",
        "def create_task2_data(noise_variance=0):\n",
        "  # Create the data. Remember that the first column is x_0 = 1, i.e. the bias\n",
        "  data = [[1, 5.1, 3.5], [1, 4.9, 3.0], [1, 4.7, 3.2], [1, 4.6, 3.1],\n",
        "          [1, 5.0, 3.6], [1, 5.4, 3.9], [1, 4.6, 3.4], [1, 5.0, 3.4],\n",
        "          [1, 4.4, 2.9], [1, 4.9, 3.1], [1, 5.4, 3.7], [1, 4.8, 3.4],\n",
        "          [1, 4.3, 3.0], [1, 5.8, 4.0], [1, 5.7, 4.4], [1, 5.4, 3.9],\n",
        "          [1, 5.1, 3.5], [1, 5.7, 3.8], [1, 5.1, 3.8], [1, 5.4, 3.4],\n",
        "          [1, 6.3, 3.3], [1, 5.8, 2.7], [1, 7.1, 3.0], [1, 6.3, 2.9],\n",
        "          [1, 6.5, 3.0], [1, 7.6, 3.0], [1, 4.9, 2.5], [1, 7.3, 2.9],\n",
        "          [1, 6.7, 2.5], [1, 7.2, 3.6], [1, 6.5, 3.2], [1, 6.4, 2.7],\n",
        "          [1, 6.8, 3.0], [1, 5.7, 2.5], [1, 5.8, 2.8], [1, 6.4, 3.2],\n",
        "          [1, 6.5, 3.0], [1, 7.7, 3.8], [1, 7.7, 2.6], [1, 6.0, 2.2]]\n",
        "\n",
        "  # For each entry in the data, we have a corresponding label.\n",
        "  labels = [-1] * 20 + [1] * 20\n",
        "  \n",
        "  # Add some noise\n",
        "  for row_idx in range(len(data)):\n",
        "    data[row_idx][1] += random.gauss(0, noise_variance ** 0.5)\n",
        "    data[row_idx][2] += random.gauss(0, noise_variance ** 0.5)\n",
        "\n",
        "  return data, labels\n",
        "\n",
        "\n",
        "# We do multiple runs to reduce randomness\n",
        "total_trials = 10\n",
        "total_misclassifications = 0\n",
        "for i in range(total_runs):\n",
        "  new_data, new_labels = create_task2_data(noise_variance=noise_variance)\n",
        "  best_weights, misclassifications = pocket_algorithm(pocket_algorithm_iterations, new_data, new_labels)\n",
        "  total_misclassifications += misclassifications\n",
        "  print(f\"Trial {i+1}: number of misclassifications {misclassifications}\")\n",
        "\n",
        "print(f\"Mean number of misclassifications: {total_misclassifications / total_trials} \\n\")\n",
        "\n",
        "print(\"Visualising the last trial\")\n",
        "plot_classifier(new_data, new_labels, best_weights[0], best_weights[1], best_weights[2], set_axis_to_data=True)"
      ],
      "execution_count": null,
      "outputs": []
    }
  ]
}
